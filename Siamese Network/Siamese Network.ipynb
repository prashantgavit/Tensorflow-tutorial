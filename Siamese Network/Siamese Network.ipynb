{
 "cells": [
  {
   "cell_type": "code",
   "execution_count": 1,
   "metadata": {
    "collapsed": true,
    "scrolled": true
   },
   "outputs": [],
   "source": [
    "from Siamese import *\n",
    "import numpy as np\n",
    "import sys\n",
    "import imageio\n",
    "from scipy import misc\n",
    "import matplotlib.pyplot as plt\n",
    "from tensorflow.python.framework import ops\n"
   ]
  },
  {
   "cell_type": "code",
   "execution_count": 3,
   "metadata": {},
   "outputs": [
    {
     "name": "stderr",
     "output_type": "stream",
     "text": [
      "/Users/prashantgavit/tensorflow/lib/python3.6/site-packages/ipykernel_launcher.py:10: DeprecationWarning: `imread` is deprecated!\n",
      "`imread` is deprecated in SciPy 1.0.0, and will be removed in 1.2.0.\n",
      "Use ``imageio.imread`` instead.\n",
      "  # Remove the CWD from sys.path while we load stuff.\n"
     ]
    }
   ],
   "source": [
    "Imag_o = np.zeros([1,600,800,3])\n",
    "Imag_c = np.zeros([1,600,800,3])\n",
    "Imag_y = np.zeros([1,600,800])\n",
    "ImgNameIndex = ['0002','0003','0008','0009','0087']\n",
    "for i in range(1):\n",
    "    ImgN = ImgNameIndex[int(i/5)]\n",
    "    ImgV = '0'+str(i%5)\n",
    "    Imag_o[i,:,:,:]=imageio.imread('data/NoShadow/'+'Scene'+ImgN+'_View'+ImgV+'_moving.png')/float(255)\n",
    "    Imag_c[i,:,:,:]=imageio.imread('data/NoShadow/'+'Scene'+ImgN+'_View'+ImgV+'_target.png')/float(255)\n",
    "    Imag_y[i,:,:] = misc.imread('data/GroundTruth/Scene'+ImgN+'_View'+ImgV+'_gtmask.png',flatten = True)/float(255)\n"
   ]
  },
  {
   "cell_type": "code",
   "execution_count": 4,
   "metadata": {},
   "outputs": [
    {
     "name": "stdout",
     "output_type": "stream",
     "text": [
      "Z5 =  170.671\n"
     ]
    }
   ],
   "source": [
    "tf.reset_default_graph()\n",
    "\n",
    "with tf.Session() as sess:\n",
    "    np.random.seed(1)\n",
    "    \n",
    "    X_o , X_c , Y = create_placeholder(600, 800, 3 )\n",
    "    parameters = initialize_parameter()\n",
    "    \n",
    "    Xcnn_o = forward_propogation(X_o,parameters)\n",
    "    Xcnn_c = forward_propogation(X_c,parameters)\n",
    "    diff = get_Euclidian_Distnace(Xcnn_o, Xcnn_c)\n",
    "    Lu = get_Lu(diff)\n",
    "    Lc = get_Lc(diff)\n",
    "    loss = get_loss(Y, Lu, Lc)\n",
    "    \n",
    "    init = tf.global_variables_initializer()\n",
    "    \n",
    "    sess.run(init)\n",
    "    \n",
    "    a = sess.run(loss, {X_o : Imag_o,\n",
    "                        X_c : Imag_c, Y : Imag_y })\n",
    "\n",
    "    print(\"Z5 = \" ,a)"
   ]
  },
  {
   "cell_type": "code",
   "execution_count": 5,
   "metadata": {
    "collapsed": true
   },
   "outputs": [],
   "source": [
    "def model(Imag_o, Imag_c, Imag_y,learning_rate = 0.009, num_epochs = 100, print_cost = True):\n",
    "    ops.reset_default_graph()\n",
    "    \n",
    "    (m , n_H0, n_W0, n_C0) = Imag_o.shape\n",
    "    costs = []\n",
    "    \n",
    "    X_o , X_c, Y = create_placeholder(n_H0, n_W0, n_C0)\n",
    "    \n",
    "    parameters = initialize_parameter()\n",
    "    \n",
    "    Xcnn_o = forward_propogation(X_o,parameters)\n",
    "    Xcnn_c = forward_propogation(X_c,parameters)\n",
    "    diff = get_Euclidian_Distnace(Xcnn_o, Xcnn_c)\n",
    "    Lu = get_Lu(diff)\n",
    "    Lc = get_Lc(diff)\n",
    "    loss = get_loss(Y, Lu, Lc)\n",
    "    \n",
    "    optimizer = tf.train.AdamOptimizer(learning_rate=learning_rate).minimize(loss)\n",
    "    \n",
    "    init = tf.global_variables_initializer()\n",
    "    \n",
    "    with tf.Session() as sess:\n",
    "        \n",
    "        sess.run(init)\n",
    "        \n",
    "        for epoch in range(num_epochs):\n",
    "                \n",
    "            _, temp_cost = sess.run([optimizer,loss], feed_dict={X_o : Imag_o,X_c : Imag_c, Y : Imag_y })\n",
    "            \n",
    "            print(temp_cost)\n",
    "                \n"
   ]
  },
  {
   "cell_type": "code",
   "execution_count": null,
   "metadata": {},
   "outputs": [],
   "source": [
    "model(Imag_o,Imag_c,Imag_y)"
   ]
  },
  {
   "cell_type": "code",
   "execution_count": null,
   "metadata": {
    "collapsed": true
   },
   "outputs": [],
   "source": []
  }
 ],
 "metadata": {
  "kernelspec": {
   "display_name": "tensorflow",
   "language": "python",
   "name": "tensorflow"
  },
  "language_info": {
   "codemirror_mode": {
    "name": "ipython",
    "version": 3
   },
   "file_extension": ".py",
   "mimetype": "text/x-python",
   "name": "python",
   "nbconvert_exporter": "python",
   "pygments_lexer": "ipython3",
   "version": "3.6.3"
  }
 },
 "nbformat": 4,
 "nbformat_minor": 2
}

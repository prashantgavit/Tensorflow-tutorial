{
 "cells": [
  {
   "cell_type": "code",
   "execution_count": 1,
   "metadata": {
    "scrolled": true
   },
   "outputs": [
    {
     "name": "stderr",
     "output_type": "stream",
     "text": [
      "/anaconda2/lib/python2.7/site-packages/h5py/__init__.py:36: FutureWarning: Conversion of the second argument of issubdtype from `float` to `np.floating` is deprecated. In future, it will be treated as `np.float64 == np.dtype(float).type`.\n",
      "  from ._conv import register_converters as _register_converters\n"
     ]
    }
   ],
   "source": [
    "from Siamese import *\n",
    "import numpy as np\n"
   ]
  },
  {
   "cell_type": "code",
   "execution_count": 2,
   "metadata": {},
   "outputs": [],
   "source": [
    "def get_Lu(D):\n",
    "    return (0.5*tf.square(D))\n",
    "\n",
    "def get_Lc(D):\n",
    "    return (0.5*tf.maximum(tf.zeros_like(D), 1-tf.square(D)))\n",
    "\n",
    "def get_loss(Y,Lu,Lc):\n",
    "    return tf.reduce_sum(tf.multiply(1-Y,Lu)+tf.multiply(Y,Lc))"
   ]
  },
  {
   "cell_type": "code",
   "execution_count": 7,
   "metadata": {},
   "outputs": [
    {
     "name": "stdout",
     "output_type": "stream",
     "text": [
      "('Z5 = ', 74180.94)\n"
     ]
    }
   ],
   "source": [
    "tf.reset_default_graph()\n",
    "\n",
    "with tf.Session() as sess:\n",
    "    np.random.seed(1)\n",
    "    \n",
    "    X_o , X_c , Y = create_placeholder(112, 112, 12 ,1)\n",
    "    parameters = initialize_parameter()\n",
    "    \n",
    "    diff = get_Euclidian_Distnace(X_o, X_c)\n",
    "    Lu = get_Lu(diff)\n",
    "    Lc = get_Lc(diff)\n",
    "    loss = get_loss(Y, Lu, Lc)\n",
    "    \n",
    "    init = tf.global_variables_initializer()\n",
    "    \n",
    "    sess.run(init)\n",
    "    \n",
    "    a = sess.run(loss, {X_o : np.ones([1,112,112,12]),\n",
    "                        X_c : np.ones([1,112,112,12])*2, Y : np.random.randn(1,112,112) })\n",
    "\n",
    "    print(\"Z5 = \" ,a)"
   ]
  },
  {
   "cell_type": "code",
   "execution_count": null,
   "metadata": {},
   "outputs": [],
   "source": [
    "np.sqrt(48)"
   ]
  },
  {
   "cell_type": "code",
   "execution_count": null,
   "metadata": {},
   "outputs": [],
   "source": [
    "np.random.randn(2,64,64,3).shape"
   ]
  },
  {
   "cell_type": "code",
   "execution_count": null,
   "metadata": {},
   "outputs": [],
   "source": []
  }
 ],
 "metadata": {
  "kernelspec": {
   "display_name": "Python 2",
   "language": "python",
   "name": "python2"
  },
  "language_info": {
   "codemirror_mode": {
    "name": "ipython",
    "version": 2
   },
   "file_extension": ".py",
   "mimetype": "text/x-python",
   "name": "python",
   "nbconvert_exporter": "python",
   "pygments_lexer": "ipython2",
   "version": "2.7.15"
  }
 },
 "nbformat": 4,
 "nbformat_minor": 2
}

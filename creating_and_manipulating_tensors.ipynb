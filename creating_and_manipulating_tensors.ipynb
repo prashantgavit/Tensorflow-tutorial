{
 "cells": [
  {
   "cell_type": "markdown",
   "metadata": {},
   "source": [
    "# Creating and Manipulating Tensors\n",
    "\n",
    "**Learning Objectives:**\n",
    "  * Initialize and assign TensorFlow `Variable`s\n",
    "  * Create and manipulate tensors\n",
    "  * Refresh your memory about addition and multiplication in linear algebra (consult an introduction to matrix [addition](https://en.wikipedia.org/wiki/Matrix_addition) and [multiplication](https://en.wikipedia.org/wiki/Matrix_multiplication) if these topics are new to you)\n",
    "  * Familiarize yourself with basic TensorFlow math and array operations"
   ]
  },
  {
   "cell_type": "code",
   "execution_count": 1,
   "metadata": {},
   "outputs": [
    {
     "name": "stderr",
     "output_type": "stream",
     "text": [
      "/anaconda2/lib/python2.7/site-packages/h5py/__init__.py:36: FutureWarning: Conversion of the second argument of issubdtype from `float` to `np.floating` is deprecated. In future, it will be treated as `np.float64 == np.dtype(float).type`.\n",
      "  from ._conv import register_converters as _register_converters\n"
     ]
    }
   ],
   "source": [
    "import tensorflow as tf"
   ]
  },
  {
   "cell_type": "markdown",
   "metadata": {},
   "source": [
    "## Vector Addition\n",
    "\n",
    "You can perform many typical mathematical operations on tensors ([TF API](https://www.tensorflow.org/api_guides/python/math_ops)). The following code\n",
    "creates and manipulates two vectors (1-D tensors), each having exactly six elements:"
   ]
  },
  {
   "cell_type": "code",
   "execution_count": 6,
   "metadata": {},
   "outputs": [
    {
     "name": "stdout",
     "output_type": "stream",
     "text": [
      "[ 3  4  6  8 12 14]\n"
     ]
    }
   ],
   "source": [
    "with tf.Graph().as_default():\n",
    "    # Create a six-element vector (1-D tensor)\n",
    "    primes = tf.constant([2,3,5,7,11,13], dtype=tf.int32)\n",
    "    \n",
    "    # Create another six-element vector. Each element in the vector will\n",
    "    # initialized to 1. The first argument is the shape of the tensor\n",
    "    ones = tf.ones([6] , dtype=tf.int32)\n",
    "    \n",
    "    # Add  the two vectors. The resulting tensor is six-element vector\n",
    "    just_beyond_primes = tf.add(primes, ones)\n",
    "    \n",
    "    # Create a session to run the default graph\n",
    "    with tf.Session() as sess:\n",
    "        print just_beyond_primes.eval()"
   ]
  },
  {
   "cell_type": "markdown",
   "metadata": {},
   "source": [
    "### Tensor Shapes\n",
    "\n",
    "Shapes are used to characterize the size and number of dimensions of a tensor. The shape of a tensor is expressed as `list`, with the `i`th element representing the size along dimension `i`. The length of the list then indicates the rank of the tensor (i.e., the number of dimensions).\n",
    "\n",
    "For more information, see the [TensorFlow documentation](https://www.tensorflow.org/programmers_guide/tensors#shape).\n",
    "\n",
    "A few basic examples:"
   ]
  },
  {
   "cell_type": "code",
   "execution_count": 8,
   "metadata": {},
   "outputs": [
    {
     "name": "stdout",
     "output_type": "stream",
     "text": [
      "scalar has shape () and value:\n",
      "0.0\n",
      "vector has shape (3,) and value:\n",
      "[0. 0. 0.]\n",
      "matrix has shape (2, 3) and value:\n",
      "[[0. 0. 0.]\n",
      " [0. 0. 0.]]\n"
     ]
    }
   ],
   "source": [
    "with tf.Graph().as_default():\n",
    "    # A scalar (0-D tensor).\n",
    "    scalar = tf.zeros([])\n",
    "    \n",
    "    # A vector with 3 element.\n",
    "    vector = tf.zeros([3])\n",
    "    \n",
    "    # A matrix with 2 rows and 3 columns.\n",
    "    matrix = tf.zeros([2,3])\n",
    "    with tf.Session() as sess:\n",
    "        print 'scalar has shape', scalar.get_shape(), 'and value:\\n', scalar.eval()\n",
    "        print 'vector has shape', vector.get_shape(), 'and value:\\n', vector.eval()\n",
    "        print 'matrix has shape', matrix.get_shape(), 'and value:\\n', matrix.eval()\n"
   ]
  },
  {
   "cell_type": "markdown",
   "metadata": {},
   "source": [
    "## Matrix Multiplication\n",
    "\n",
    "In linear algebra, when multiplying two matrices, the number of *columns* of the first matrix must\n",
    "equal the number of *rows* in the second matrix.\n",
    "\n",
    "- It is **_valid_** to multiply a `3x4` matrix by a `4x2` matrix. This will result in a `3x2` matrix.\n",
    "- It is **_invalid_** to multiply a `4x2` matrix by a `3x4` matrix."
   ]
  },
  {
   "cell_type": "code",
   "execution_count": 11,
   "metadata": {},
   "outputs": [
    {
     "name": "stdout",
     "output_type": "stream",
     "text": [
      "[[35 58]\n",
      " [35 33]\n",
      " [ 1 -4]]\n"
     ]
    }
   ],
   "source": [
    "with tf.Graph().as_default():\n",
    "    # Create a matrix (2-d tensor) with 3 rows and 4 columns.\n",
    "    x = tf.constant([[5, 2, 4, 3],[5,1, 6, -2], [-1, 3, -1 , -2]], dtype = tf.int32 )\n",
    "    \n",
    "    # Create a matrix with 4 rows and 2 columns\n",
    "    y = tf.constant([[2,2],[3,5],[4,5],[1,6]], dtype = tf.int32)\n",
    "    \n",
    "    # Multiply `x` by `y`\n",
    "    # The resulting matrix will have 3 rows and 2 columns\n",
    "    matrix_multiplication_result = tf.matmul(x, y)\n",
    "    \n",
    "    with tf.Session() as sess:\n",
    "        print matrix_multiplication_result.eval()"
   ]
  },
  {
   "cell_type": "markdown",
   "metadata": {},
   "source": [
    "## Tensor Reshaping\n",
    "\n",
    "With tensor addition and matrix multiplication each imposing constraints\n",
    "on operands, TensorFlow programmers must frequently reshape tensors. \n",
    "\n",
    "You can use the `tf.reshape` method to reshape a tensor. \n",
    "For example, you can reshape a 8x2 tensor into a 2x8 tensor or a 4x4 tensor:"
   ]
  },
  {
   "cell_type": "code",
   "execution_count": 13,
   "metadata": {},
   "outputs": [
    {
     "name": "stdout",
     "output_type": "stream",
     "text": [
      "Original matrix (8x2):\n",
      "[[ 1  2]\n",
      " [ 3  4]\n",
      " [ 5  6]\n",
      " [ 7  8]\n",
      " [ 9 10]\n",
      " [11 12]\n",
      " [13 14]\n",
      " [15 16]]\n",
      "Reshaped matrix (2x8):\n",
      "[[ 1  2  3  4  5  6  7  8]\n",
      " [ 9 10 11 12 13 14 15 16]]\n",
      "Reshaped matrix (4x4):\n",
      "[[ 1  2  3  4]\n",
      " [ 5  6  7  8]\n",
      " [ 9 10 11 12]\n",
      " [13 14 15 16]]\n"
     ]
    }
   ],
   "source": [
    "with tf.Graph().as_default():\n",
    "    # Create an 8x2 matrix (2-D tensor).\n",
    "    matrix = tf.constant([[1,2], [3,4], [5,6], [7,8],\n",
    "                        [9,10], [11,12], [13, 14], [15,16]], dtype = tf.int32)\n",
    "    \n",
    "    # Reshape the 8x2 matrix into a 2x8 matrix.\n",
    "    reshaped_2x8_matrix = tf.reshape(matrix, [2,8])\n",
    "    \n",
    "    # Reshape the 8X2 matrix into a 4x4 matrix.\n",
    "    reshaped_4x4_matrix = tf.reshape(matrix, [4,4])\n",
    "    \n",
    "    with tf.Session() as sess:\n",
    "        print \"Original matrix (8x2):\"\n",
    "        print matrix.eval()\n",
    "        print \"Reshaped matrix (2x8):\"\n",
    "        print reshaped_2x8_matrix.eval()\n",
    "        print \"Reshaped matrix (4x4):\"\n",
    "        print reshaped_4x4_matrix.eval()"
   ]
  },
  {
   "cell_type": "markdown",
   "metadata": {},
   "source": [
    "You can also use `tf.reshape` to change the number of dimensions (the \"rank\") of the tensor.\n",
    "For example, you could reshape that 8x2 tensor into a 3-D 2x2x4 tensor or a 1-D 16-element tensor."
   ]
  },
  {
   "cell_type": "code",
   "execution_count": 16,
   "metadata": {},
   "outputs": [
    {
     "name": "stdout",
     "output_type": "stream",
     "text": [
      "Original matrix (8x2):\n",
      "[[ 1  2]\n",
      " [ 3  4]\n",
      " [ 5  6]\n",
      " [ 7  8]\n",
      " [ 9 10]\n",
      " [11 12]\n",
      " [13 14]\n",
      " [15 16]]\n",
      "Reshaped 3-D tensor (2x2x4):\n",
      "[[[ 1  2  3  4]\n",
      "  [ 5  6  7  8]]\n",
      "\n",
      " [[ 9 10 11 12]\n",
      "  [13 14 15 16]]]\n",
      "1-D vector:\n",
      "[ 1  2  3  4  5  6  7  8  9 10 11 12 13 14 15 16]\n"
     ]
    }
   ],
   "source": [
    "with tf.Graph().as_default():\n",
    "    # Create an 8X2 matrix (2-D tensor)\n",
    "    matrix = tf.constant([[1,2], [3,4], [5,6], [7,8],\n",
    "                        [9,10], [11,12], [13, 14], [15,16]], dtype=tf.int32)\n",
    "    \n",
    "    # Reshape the 8x2 matrix in a 3-D 2x2x4 tensor\n",
    "    reshaped_2x2x4_tensor = tf.reshape(matrix, [2,2,4])\n",
    "    \n",
    "    # Reshape the 8x2 matrix in a 1-D 16-element tensor.\n",
    "    one_dimensional_vector = tf.reshape(matrix, [16])\n",
    "    \n",
    "    with tf.Session() as sess:\n",
    "        print \"Original matrix (8x2):\"\n",
    "        print matrix.eval()\n",
    "        print \"Reshaped 3-D tensor (2x2x4):\"\n",
    "        print reshaped_2x2x4_tensor.eval()\n",
    "        print \"1-D vector:\"\n",
    "        print one_dimensional_vector.eval()\n",
    "        \n",
    "        "
   ]
  },
  {
   "cell_type": "markdown",
   "metadata": {},
   "source": [
    "### Exercise #1: Reshape two tensors in order to multiply them.\n",
    "\n",
    "The following two vectors are incompatible for matrix multiplication:\n",
    "\n",
    "  *  `a = tf.constant([5, 3, 2, 7, 1, 4])`\n",
    "  *  `b = tf.constant([4, 6, 3])`\n",
    "\n",
    "Reshape these vectors into compatible operands for matrix multiplication.\n",
    "Then, invoke a matrix multiplication operation on the reshaped tensors."
   ]
  },
  {
   "cell_type": "code",
   "execution_count": 17,
   "metadata": {},
   "outputs": [
    {
     "name": "stdout",
     "output_type": "stream",
     "text": [
      "[[44]\n",
      " [46]]\n"
     ]
    }
   ],
   "source": [
    "with tf.Graph().as_default():\n",
    "    a = tf.constant([5, 3, 2, 7, 1, 4] , dtype = tf.int32)\n",
    "    b = tf.constant([4, 6, 3] , dtype = tf.int32)\n",
    "    a_reshaped = tf.reshape(a , [2,3])\n",
    "    b_reshaped = tf.reshape(b , [3,1])\n",
    "    a_b = tf.matmul(a_reshaped, b_reshaped)\n",
    "    \n",
    "    with tf.Session() as sess:\n",
    "        print a_b.eval()"
   ]
  },
  {
   "cell_type": "markdown",
   "metadata": {},
   "source": [
    "## Variables, Initialization and Assignment\n",
    "\n",
    "So far, all the operations we performed were on static values (`tf.constant`); calling `eval()` always returned the same result. TensorFlow allows you to define `Variable` objects, whose values can be changed. \n",
    "\n",
    "When creating a variable, you can set an initial value explicitly, or you can use an initializer (like a distribution):"
   ]
  },
  {
   "cell_type": "code",
   "execution_count": 19,
   "metadata": {},
   "outputs": [],
   "source": [
    "g = tf.Graph()\n",
    "\n",
    "with g.as_default():\n",
    "    # Create a variable with the initial value 3.\n",
    "    v =  tf.Variable([3])\n",
    "    \n",
    "    # Create a variable of  shape [1], with a random intial value,\n",
    "    # sampled from a normal distribution with mean 1 and standard deviation 0.35.\n",
    "    w = tf.Variable(tf.random_normal([1], mean = 1.0 , stddev = 0.35))\n",
    "    "
   ]
  },
  {
   "cell_type": "markdown",
   "metadata": {},
   "source": [
    "One peculiarity of TensorFlow is that **variable initialization is not automatic**. For example, the following block will cause an error:"
   ]
  },
  {
   "cell_type": "code",
   "execution_count": 21,
   "metadata": {},
   "outputs": [
    {
     "name": "stdout",
     "output_type": "stream",
     "text": [
      "Caught expected error:  Attempting to use uninitialized value Variable\n",
      "\t [[Node: _retval_Variable_0_0 = _Retval[T=DT_INT32, index=0, _device=\"/job:localhost/replica:0/task:0/device:CPU:0\"](Variable)]]\n"
     ]
    }
   ],
   "source": [
    "with g.as_default():\n",
    "    with tf.Session() as sess:\n",
    "        try:\n",
    "            v.eval()\n",
    "        except tf.errors.FailedPreconditionError as e:\n",
    "            print \"Caught expected error: \", e"
   ]
  },
  {
   "cell_type": "markdown",
   "metadata": {},
   "source": [
    "The easiest way to initialize a variable is to call `global_variables_initializer`. Note the use of `Session.run()`, which is roughly equivalent to `eval()`."
   ]
  },
  {
   "cell_type": "code",
   "execution_count": 25,
   "metadata": {},
   "outputs": [
    {
     "name": "stdout",
     "output_type": "stream",
     "text": [
      "[3]\n",
      "[0.84390116]\n"
     ]
    }
   ],
   "source": [
    "with g.as_default():\n",
    "    with tf.Session() as sess:\n",
    "        initialization = tf.global_variables_initializer()\n",
    "        sess.run(initialization)\n",
    "        # Now, variables can be accessed normally, and have value assigned to them.\n",
    "        print v.eval()\n",
    "        print w.eval()"
   ]
  },
  {
   "cell_type": "markdown",
   "metadata": {},
   "source": [
    "Once initialized, variables will maintain their value within the same session (however, when starting a new session, you will need to re-initialize them):"
   ]
  },
  {
   "cell_type": "code",
   "execution_count": 29,
   "metadata": {},
   "outputs": [
    {
     "name": "stdout",
     "output_type": "stream",
     "text": [
      "[0.8108058]\n",
      "[0.8108058]\n",
      "[0.8108058]\n"
     ]
    }
   ],
   "source": [
    "with g.as_default():\n",
    "    with tf.Session() as sess:\n",
    "        sess.run(tf.global_variables_initializer())\n",
    "        # These three prints will print the same value\n",
    "        print w.eval()\n",
    "        print w.eval()\n",
    "        print w.eval()\n",
    "        "
   ]
  },
  {
   "cell_type": "markdown",
   "metadata": {},
   "source": [
    "To change the value of a variable, use the `assign` op. Note that simply creating the `assign` op will not have any effect. As with initialization, you have to `run` the assignment op to update the variable value:"
   ]
  },
  {
   "cell_type": "code",
   "execution_count": 30,
   "metadata": {},
   "outputs": [
    {
     "name": "stdout",
     "output_type": "stream",
     "text": [
      "[3]\n",
      "[7]\n"
     ]
    }
   ],
   "source": [
    "with g.as_default():\n",
    "    with tf.Session() as sess:\n",
    "        sess.run(tf.global_variables_initializer())\n",
    "        # This should print the variable's iniitial value.\n",
    "        print v.eval()\n",
    "        \n",
    "        assignment = tf.assign(v, [7])\n",
    "        # The variable has not been changes yet!\n",
    "        \n",
    "        #Execute the assignment op.\n",
    "        sess.run(assignment)\n",
    "        # Now the variable is updated\n",
    "        print v.eval()"
   ]
  },
  {
   "cell_type": "markdown",
   "metadata": {},
   "source": [
    "There are many more topics about variables that we didn't cover here, such as loading and storing. To learn more, see the [TensorFlow docs](https://www.tensorflow.org/programmers_guide/variables).\n",
    "\n",
    "### Exercise #2: Simulate 10 rolls of two dice.\n",
    "\n",
    "Create a dice simulation, which generates a `10x3` 2-D tensor in which:\n",
    "\n",
    "  * Columns `1` and `2` each hold one throw of one six-sided die (with values 1–6).\n",
    "  * Column `3` holds the sum of Columns `1` and `2` on the same row.\n",
    "\n",
    "For example, the first row might have the following values:\n",
    "\n",
    "  * Column `1` holds `4`\n",
    "  * Column `2` holds `3`\n",
    "  * Column `3` holds `7`\n",
    "\n",
    "You'll need to explore the [TensorFlow documentation](https://www.tensorflow.org/api_guides/python/array_ops) to solve this task."
   ]
  },
  {
   "cell_type": "code",
   "execution_count": 36,
   "metadata": {},
   "outputs": [
    {
     "name": "stdout",
     "output_type": "stream",
     "text": [
      "[[ 6  1  7]\n",
      " [ 6  4 10]\n",
      " [ 1  6  7]\n",
      " [ 1  2  3]\n",
      " [ 6  6 12]\n",
      " [ 3  4  7]\n",
      " [ 5  2  7]\n",
      " [ 1  3  4]\n",
      " [ 4  1  5]\n",
      " [ 2  3  5]]\n"
     ]
    }
   ],
   "source": [
    "g = tf.Graph()\n",
    "\n",
    "with g.as_default():\n",
    "    dice1 = tf.Variable(tf.random_uniform([10,1], \n",
    "                                          minval=1, maxval=7,\n",
    "                                          dtype=tf.int32))\n",
    "    \n",
    "    dice2 = tf.Variable(tf.random_uniform([10,1],\n",
    "                                         minval=1, maxval=7,\n",
    "                                         dtype=tf.int32))\n",
    "    \n",
    "    dice_sum = tf.add(dice1,dice2)\n",
    "    \n",
    "    resulting_matrix = tf.concat(\n",
    "        values = [dice1, dice2, dice_sum] , axis=1)   \n",
    "    \n",
    "    with tf.Session() as sess:\n",
    "        sess.run(tf.global_variables_initializer())\n",
    "        \n",
    "        print resulting_matrix.eval()\n"
   ]
  },
  {
   "cell_type": "code",
   "execution_count": null,
   "metadata": {},
   "outputs": [],
   "source": []
  }
 ],
 "metadata": {
  "kernelspec": {
   "display_name": "tensorFlowEnv",
   "language": "python",
   "name": "tensorflowenv"
  },
  "language_info": {
   "codemirror_mode": {
    "name": "ipython",
    "version": 2
   },
   "file_extension": ".py",
   "mimetype": "text/x-python",
   "name": "python",
   "nbconvert_exporter": "python",
   "pygments_lexer": "ipython2",
   "version": "2.7.15"
  }
 },
 "nbformat": 4,
 "nbformat_minor": 2
}
